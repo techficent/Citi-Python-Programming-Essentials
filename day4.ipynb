{
 "cells": [
  {
   "attachments": {},
   "cell_type": "markdown",
   "metadata": {},
   "source": [
    "# Q1\n",
    "### Write a program to take N number of labels and values from the user.\n",
    "### Add them to a new dictionary called \"data\""
   ]
  },
  {
   "cell_type": "code",
   "execution_count": 24,
   "metadata": {},
   "outputs": [],
   "source": [
    "#step 1: take value for N from the user\n",
    "\n",
    "\n",
    "def add_values():\n",
    "\n",
    "    N = int(input(\"Enter number of items you would like to add: \"))\n",
    "\n",
    "    data = {}\n",
    "\n",
    "    for count in range(N):\n",
    "\n",
    "        print(\"Duplicate labels will cause values to be overwritten\")\n",
    "\n",
    "        key = input(\"Enter a key: \")\n",
    "        value = input(\"Enter a value: \")\n",
    "\n",
    "        data.update(  {key : value}   )\n",
    "\n",
    "\n",
    "    print(f\"Data: {data}\")"
   ]
  },
  {
   "attachments": {},
   "cell_type": "markdown",
   "metadata": {},
   "source": [
    "# Q2\n",
    "### Take N as input number from the user. \n",
    "\n",
    "### Create N nested dictionaries inside a parent dictionary \"data\" where labels and \n",
    "### values for each are also provided by the user\n",
    "\n",
    "\n",
    "#### step 1 : Take input for N\n",
    "#### step 2 : Run a for loop for N times and repeat the following steps\n",
    "                ## Ask the user if they want to provide more inputs?\n",
    "                        ### if yes, accept 1 key and 1 value\n",
    "                                ### if key exists, confirm if user wants to overwrite\n",
    "                                #### else, add entry for new item directly\n",
    "                        ### If no, complete the for loop and go to next iteration for next dictionary inputs\n",
    "\n",
    "### step 3: print the data dictionary"
   ]
  },
  {
   "cell_type": "code",
   "execution_count": null,
   "metadata": {},
   "outputs": [],
   "source": [
    "# how many inner dictionaries?\n",
    "\n",
    "\n",
    "# data={\n",
    "\n",
    "#     {\n",
    "        \n",
    "#     },\n",
    "#      {\n",
    "    \n",
    "#     },\n",
    "\n",
    "#     {\n",
    "    \n",
    "#     }\n",
    "\n",
    "\n",
    "# }"
   ]
  },
  {
   "cell_type": "code",
   "execution_count": 26,
   "metadata": {},
   "outputs": [
    {
     "name": "stdout",
     "output_type": "stream",
     "text": [
      "{0: {'name': 'Harshit'}, 1: {'name': 'rohan'}}\n"
     ]
    }
   ],
   "source": [
    "#step 1: \n",
    "data={}\n",
    "\n",
    "N = int(input(\"Enter number of items you would like to add: \"))\n",
    "\n",
    "for count in range(N):\n",
    "    temp = {}\n",
    "    \n",
    "    choice = \"Y\"\n",
    "\n",
    "    while choice != \"N\":\n",
    "\n",
    "        key = input(\"Enter a key: \")\n",
    "        value = input(\"Enter a value: \")\n",
    "\n",
    "        temp.update({key : value})\n",
    "\n",
    "        choice = input(\"Do you want to add more items to current dictionary? Y or N\")\n",
    "    \n",
    "    data.update({count: temp})\n",
    "\n",
    "print(data)"
   ]
  },
  {
   "cell_type": "code",
   "execution_count": 1,
   "metadata": {},
   "outputs": [],
   "source": [
    "# take one number from user and print the square of this number (number * number)"
   ]
  },
  {
   "cell_type": "code",
   "execution_count": 2,
   "metadata": {},
   "outputs": [
    {
     "name": "stdout",
     "output_type": "stream",
     "text": [
      "100\n"
     ]
    }
   ],
   "source": [
    "number = int(input(\"Enter a number: \"))\n",
    "print(number ** 2) #square of input number"
   ]
  },
  {
   "cell_type": "code",
   "execution_count": 3,
   "metadata": {},
   "outputs": [
    {
     "name": "stdout",
     "output_type": "stream",
     "text": [
      "hello\n"
     ]
    }
   ],
   "source": [
    "print(\"hello\")"
   ]
  },
  {
   "cell_type": "code",
   "execution_count": 9,
   "metadata": {},
   "outputs": [],
   "source": [
    "def square():\n",
    "    number = int(input(\"Enter a number: \"))\n",
    "    print(f\"{number} squared is {number ** 2}\") #square of input number"
   ]
  },
  {
   "cell_type": "code",
   "execution_count": 8,
   "metadata": {},
   "outputs": [
    {
     "name": "stdout",
     "output_type": "stream",
     "text": [
      "10 squared is 100\n"
     ]
    }
   ],
   "source": [
    "square()"
   ]
  },
  {
   "cell_type": "code",
   "execution_count": 10,
   "metadata": {},
   "outputs": [],
   "source": [
    "# take 2 numbers AS ARGUMENTS and print the addition of these 2 arguments\n"
   ]
  },
  {
   "attachments": {},
   "cell_type": "markdown",
   "metadata": {},
   "source": [
    "### addition is function that 2 arguments n1 and n2.\n",
    "### It returns NO VALUE!!!"
   ]
  },
  {
   "cell_type": "code",
   "execution_count": 15,
   "metadata": {},
   "outputs": [
    {
     "name": "stdout",
     "output_type": "stream",
     "text": [
      "10 plus 20 is 30\n"
     ]
    }
   ],
   "source": [
    "def addition(  n1 ,  n2   ):\n",
    "    print(f\"{n1} plus {n2} is {n1 + n2}\")\n",
    "\n",
    "\n",
    "addition( 10, 20     )"
   ]
  },
  {
   "cell_type": "code",
   "execution_count": 16,
   "metadata": {},
   "outputs": [
    {
     "name": "stdout",
     "output_type": "stream",
     "text": [
      "100 plus 20 is 120\n"
     ]
    }
   ],
   "source": [
    "\n",
    "addition( 100, 20     )"
   ]
  },
  {
   "cell_type": "code",
   "execution_count": 17,
   "metadata": {},
   "outputs": [
    {
     "name": "stdout",
     "output_type": "stream",
     "text": [
      "100 plus 200 is 300\n"
     ]
    }
   ],
   "source": [
    "#python reads def: understands a function is being defined\n",
    "\n",
    "def addition(  n1 ,  n2   ):   #step 1,      step 6\n",
    "    print(f\"{n1} plus {n2} is {n1 + n2}\") #step 2    step 7\n",
    "\n",
    "#step 3\n",
    "n1 = int(input(\"Enter a number: \"))\n",
    "\n",
    "#step 4\n",
    "n2 = int(input(\"Enter another number: \"))\n",
    "\n",
    "#step 5\n",
    "addition( n1, n2     )"
   ]
  },
  {
   "cell_type": "code",
   "execution_count": 20,
   "metadata": {},
   "outputs": [],
   "source": [
    "#Type hint: not compulsory\n",
    "def addition(  n1 : int ,  n2 : int   ):   \n",
    "    print(f\"{n1} plus {n2} is {n1 + n2}\") \n"
   ]
  },
  {
   "cell_type": "code",
   "execution_count": 21,
   "metadata": {},
   "outputs": [
    {
     "name": "stdout",
     "output_type": "stream",
     "text": [
      "10 plus 20 is 30\n"
     ]
    }
   ],
   "source": [
    "addition(10, 20)"
   ]
  },
  {
   "cell_type": "code",
   "execution_count": 22,
   "metadata": {},
   "outputs": [
    {
     "name": "stdout",
     "output_type": "stream",
     "text": [
      "harshit plus shukla is harshitshukla\n",
      "12.23 plus 10.21 is 22.44\n",
      "[1, 2, 3, 4] plus [6, 7, 8, 9] is [1, 2, 3, 4, 6, 7, 8, 9]\n"
     ]
    }
   ],
   "source": [
    "addition(\"harshit\", \"shukla\") #+ between string joins them\n",
    "addition(12.23, 10.21) # 2 floats gets summed arithmetically\n",
    "addition([1,2,3,4], [6,7,8,9]) #+ between 2 lists will merge them"
   ]
  },
  {
   "attachments": {},
   "cell_type": "markdown",
   "metadata": {},
   "source": [
    "### return & no return"
   ]
  },
  {
   "cell_type": "code",
   "execution_count": null,
   "metadata": {},
   "outputs": [],
   "source": [
    "data = [1,2,3,4,5]\n",
    "\n",
    "data.reverse()\n",
    "\n",
    "\n",
    "\n",
    "ans = data.pop() #correct as pop returns something!"
   ]
  },
  {
   "cell_type": "code",
   "execution_count": 29,
   "metadata": {},
   "outputs": [
    {
     "name": "stdout",
     "output_type": "stream",
     "text": [
      "30\n",
      "None\n",
      "DONE\n"
     ]
    }
   ],
   "source": [
    "def addition(n1 : int,  n2 : int ) -> int:\n",
    "\n",
    "    return (n1 + n2)\n",
    "\n",
    "\n",
    "\n",
    "ans = addition(10, 20)\n",
    "\n",
    "print(ans)\n",
    "\n",
    "print(\"DONE\")"
   ]
  },
  {
   "cell_type": "code",
   "execution_count": null,
   "metadata": {},
   "outputs": [],
   "source": [
    "#when list gets reversed, user should not expect any value out of this action.\n",
    "#instead, they should expect the original data list to now contain elements in reverse order\n",
    "\n",
    "data.reverse() #hence return is NONE"
   ]
  },
  {
   "cell_type": "code",
   "execution_count": null,
   "metadata": {},
   "outputs": [],
   "source": [
    "#pop takes a position and removes item at this given position.\n",
    "#user may expect this value back because they may want to preserve it for later use!\n",
    "\n",
    "data.pop() #hence a value is actually returned "
   ]
  },
  {
   "cell_type": "code",
   "execution_count": null,
   "metadata": {},
   "outputs": [],
   "source": [
    "# create a function that calculates the factorial of a given positive number\n",
    "\n",
    "# if number is negative, return -1 to indicate to user that input was invalid\n",
    "\n",
    "# for a positive number or 0, return the answer value\n",
    "\n",
    "\n",
    "#5! = 1 * 2 * 3 * 4 * 5\n",
    "#OR\n",
    "#5! = 5 * 4 * 3 * 2 * 1\n",
    "\n",
    "\n",
    "# hackerrank\n",
    "\n",
    "# code chef\n",
    "\n",
    "\n",
    "def factorial(number : int) -> int:\n",
    "    if number < 0 : #negative numbers\n",
    "        return -1\n",
    "    elif number == 0:\n",
    "        return 1\n",
    "    else:\n",
    "        ans = 1\n",
    "        \n",
    "        for count in range(1, number + 1, 1):\n",
    "            ans *= count #same as ans = ans * count\n",
    "\n",
    "        #for loop finished, now show the ans\n",
    "        return ans\n",
    "        "
   ]
  },
  {
   "attachments": {},
   "cell_type": "markdown",
   "metadata": {},
   "source": [
    "# Default values"
   ]
  },
  {
   "cell_type": "code",
   "execution_count": null,
   "metadata": {},
   "outputs": [],
   "source": [
    "data.sort(reverse=True) #notice default for reverse is False"
   ]
  },
  {
   "cell_type": "code",
   "execution_count": 35,
   "metadata": {},
   "outputs": [
    {
     "name": "stdout",
     "output_type": "stream",
     "text": [
      "0\n",
      "10\n",
      "60\n"
     ]
    }
   ],
   "source": [
    "#default values\n",
    "\n",
    "def addition (n1 : int = 0, n2 : int = 0) -> int:\n",
    "    return n1 + n2\n",
    "\n",
    "print(   addition() ) #n1 is assumed as 0 and n2 is also assumed as 0\n",
    "\n",
    "print(  addition(10) ) #n1 is taken to be 10 and n2 is assumed as 0\n",
    "\n",
    "print( addition(20, 40) ) #n1 is 20 and n2 is 40"
   ]
  },
  {
   "cell_type": "code",
   "execution_count": 41,
   "metadata": {},
   "outputs": [],
   "source": [
    "def operation(   data1 : list, data2 : list, order : bool = True  ) -> list:\n",
    "    merged_list = data1 + data2\n",
    "\n",
    "    merged_list.sort(reverse=order)\n",
    "\n",
    "    return merged_list"
   ]
  },
  {
   "cell_type": "code",
   "execution_count": 42,
   "metadata": {},
   "outputs": [
    {
     "name": "stdout",
     "output_type": "stream",
     "text": [
      "List returned from operation: [1, 2, 3, 4, 10, 20, 30]\n"
     ]
    }
   ],
   "source": [
    "data = operation([1,2,3,4],  [10,20,30], False)\n",
    "\n",
    "print(f\"List returned from operation: {data}\")"
   ]
  },
  {
   "cell_type": "code",
   "execution_count": 45,
   "metadata": {},
   "outputs": [],
   "source": [
    "def remove_characters(msg :  str, characters : list = [])->str:\n",
    "    \n",
    "    for letter in characters:#current letter: \"i\"\n",
    "        \n",
    "        if letter in msg:\n",
    "            msg = msg.replace(letter, \"\")\n",
    "    \n",
    "    return msg"
   ]
  },
  {
   "cell_type": "code",
   "execution_count": 46,
   "metadata": {},
   "outputs": [
    {
     "name": "stdout",
     "output_type": "stream",
     "text": [
      "hrsh\n"
     ]
    }
   ],
   "source": [
    "ans = remove_characters(\"harshit\",  [\"a\",\"i\",\"t\"])\n",
    "\n",
    "print(ans)"
   ]
  },
  {
   "attachments": {},
   "cell_type": "markdown",
   "metadata": {},
   "source": [
    "## keyword argument passing"
   ]
  },
  {
   "cell_type": "code",
   "execution_count": 47,
   "metadata": {},
   "outputs": [],
   "source": [
    "def formula (x : int = 0, y: int = 0, z : int = 0) -> int:\n",
    "    return x + y - z"
   ]
  },
  {
   "attachments": {},
   "cell_type": "markdown",
   "metadata": {},
   "source": [
    "### use [parameter-name = value] syntax"
   ]
  },
  {
   "cell_type": "code",
   "execution_count": 50,
   "metadata": {},
   "outputs": [
    {
     "name": "stdout",
     "output_type": "stream",
     "text": [
      "0\n",
      "0\n",
      "0\n"
     ]
    }
   ],
   "source": [
    "print( formula(x = 10, y=20, z=30) )\n",
    "\n",
    "print( formula(z=30, y=20, x=10) )\n",
    "\n",
    "print( formula(y=20, z=30, x=10) )\n"
   ]
  },
  {
   "attachments": {},
   "cell_type": "markdown",
   "metadata": {},
   "source": [
    "#### variable number of arguments\n",
    "\n",
    "#### use a * symbol to define the arguments. All arguments get packed into a tuple automatically"
   ]
  },
  {
   "cell_type": "code",
   "execution_count": 51,
   "metadata": {},
   "outputs": [],
   "source": [
    "def addition(*data : tuple)-> None:\n",
    "\n",
    "    print(data, type(data) )\n",
    "\n",
    "    ans = 0\n",
    "    #now process the data by assuming that you are working on a tuple\n",
    "\n",
    "    for number in data:\n",
    "        ans = ans + number\n",
    "\n",
    "    print (ans)"
   ]
  },
  {
   "cell_type": "code",
   "execution_count": 52,
   "metadata": {},
   "outputs": [
    {
     "name": "stdout",
     "output_type": "stream",
     "text": [
      "(10, 20, 30) <class 'tuple'>\n",
      "60\n",
      "(100, 200) <class 'tuple'>\n",
      "300\n",
      "() <class 'tuple'>\n",
      "0\n",
      "(10, 20, 30, 40, 50, 100) <class 'tuple'>\n",
      "250\n"
     ]
    }
   ],
   "source": [
    "addition(10,20,30)\n",
    "addition(100, 200)\n",
    "addition()\n",
    "\n",
    "addition(10, 20, 30, 40 , 50,  100)"
   ]
  },
  {
   "attachments": {},
   "cell_type": "markdown",
   "metadata": {},
   "source": [
    "## correct sequence: always keep variable number of args at the end. Regular variables first"
   ]
  },
  {
   "cell_type": "code",
   "execution_count": 62,
   "metadata": {},
   "outputs": [],
   "source": [
    "def demo(order : bool,    *data : tuple)->list:\n",
    "    #since sort works for a list, convert data tuple into a list first\n",
    "    data=list(data)\n",
    "    data.sort(reverse=order)\n",
    "    return data"
   ]
  },
  {
   "cell_type": "code",
   "execution_count": 63,
   "metadata": {},
   "outputs": [
    {
     "name": "stdout",
     "output_type": "stream",
     "text": [
      "[100, 50, 40, 30, 20]\n"
     ]
    }
   ],
   "source": [
    "print (   demo(True,  100, 20, 30, 40 , 50)  )"
   ]
  },
  {
   "attachments": {},
   "cell_type": "markdown",
   "metadata": {},
   "source": [
    "### if you keep variable args as first parameter, you get an error because function packs\n",
    "### all parameters into tuple include the order value"
   ]
  },
  {
   "cell_type": "code",
   "execution_count": 64,
   "metadata": {},
   "outputs": [],
   "source": [
    "def demo( *data : tuple,   order : bool)->list:\n",
    "    data=list(data)\n",
    "    data.sort(reverse=order)    \n",
    "    return data"
   ]
  },
  {
   "cell_type": "code",
   "execution_count": 65,
   "metadata": {},
   "outputs": [
    {
     "ename": "TypeError",
     "evalue": "demo() missing 1 required keyword-only argument: 'order'",
     "output_type": "error",
     "traceback": [
      "\u001b[0;31m---------------------------------------------------------------------------\u001b[0m",
      "\u001b[0;31mTypeError\u001b[0m                                 Traceback (most recent call last)",
      "\u001b[1;32m/home/harshit/Desktop/Python-Essentials-Citi/day4.ipynb Cell 44\u001b[0m in \u001b[0;36m1\n\u001b[0;32m----> <a href='vscode-notebook-cell:/home/harshit/Desktop/Python-Essentials-Citi/day4.ipynb#X64sZmlsZQ%3D%3D?line=0'>1</a>\u001b[0m \u001b[39mprint\u001b[39m (   demo( \u001b[39m100\u001b[39;49m, \u001b[39m20\u001b[39;49m, \u001b[39m30\u001b[39;49m, \u001b[39m40\u001b[39;49m , \u001b[39m50\u001b[39;49m,  \u001b[39mTrue\u001b[39;49;00m)  )\n",
      "\u001b[0;31mTypeError\u001b[0m: demo() missing 1 required keyword-only argument: 'order'"
     ]
    }
   ],
   "source": [
    "print (   demo( 100, 20, 30, 40 , 50,  True)  )"
   ]
  },
  {
   "attachments": {},
   "cell_type": "markdown",
   "metadata": {},
   "source": [
    "###  ** would pack all keyword arguments passed into a dictionary"
   ]
  },
  {
   "cell_type": "code",
   "execution_count": 70,
   "metadata": {},
   "outputs": [],
   "source": [
    "def demo(**data: dict) :\n",
    "    print(data, type(data))"
   ]
  },
  {
   "cell_type": "code",
   "execution_count": 71,
   "metadata": {},
   "outputs": [
    {
     "name": "stdout",
     "output_type": "stream",
     "text": [
      "{'name': 'Harshit', 'age': 32} <class 'dict'>\n"
     ]
    }
   ],
   "source": [
    "demo(name = \"Harshit\" , age = 32)"
   ]
  }
 ],
 "metadata": {
  "kernelspec": {
   "display_name": "Python 3",
   "language": "python",
   "name": "python3"
  },
  "language_info": {
   "codemirror_mode": {
    "name": "ipython",
    "version": 3
   },
   "file_extension": ".py",
   "mimetype": "text/x-python",
   "name": "python",
   "nbconvert_exporter": "python",
   "pygments_lexer": "ipython3",
   "version": "3.11.2"
  },
  "orig_nbformat": 4
 },
 "nbformat": 4,
 "nbformat_minor": 2
}
