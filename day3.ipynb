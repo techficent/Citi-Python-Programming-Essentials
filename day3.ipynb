{
 "cells": [
  {
   "attachments": {},
   "cell_type": "markdown",
   "metadata": {},
   "source": [
    "\n",
    "0                        1                    2                  3                     4\n",
    "                        \n",
    "10,                     20 ,                  30 ,              40 ,                   50\n",
    "\n",
    "\n",
    "-5                     -4                      -3                -2                    -1\n",
    "\n",
    "                                                                                       "
   ]
  },
  {
   "attachments": {},
   "cell_type": "markdown",
   "metadata": {},
   "source": [
    "## Indexing: specify position and get data"
   ]
  },
  {
   "cell_type": "code",
   "execution_count": 3,
   "metadata": {},
   "outputs": [
    {
     "name": "stdout",
     "output_type": "stream",
     "text": [
      "30\n",
      "50\n"
     ]
    }
   ],
   "source": [
    "data = [10, 20 , 30 , 40 , 50]\n",
    "\n",
    "\n",
    "print(  data [2]     ) #print 30 on the screen (third element of the list)\n",
    "print(  data[4]      ) #print 50 (fifth element in the list)\n"
   ]
  },
  {
   "cell_type": "code",
   "execution_count": 4,
   "metadata": {},
   "outputs": [
    {
     "name": "stdout",
     "output_type": "stream",
     "text": [
      "After change: [10, 20, 999, 40, 50]\n"
     ]
    }
   ],
   "source": [
    "data [2] = 999 #change position 2 of data to the value 999\n",
    "\n",
    "print(f\"After change: {data}\")"
   ]
  },
  {
   "cell_type": "code",
   "execution_count": 5,
   "metadata": {},
   "outputs": [
    {
     "name": "stdout",
     "output_type": "stream",
     "text": [
      "50 50\n",
      "40 40\n"
     ]
    }
   ],
   "source": [
    "print(data[4],     data[-1] )\n",
    "\n",
    "print(data[3],     data[-2] )"
   ]
  },
  {
   "attachments": {},
   "cell_type": "markdown",
   "metadata": {},
   "source": [
    "## slice : get a piece of data list"
   ]
  },
  {
   "cell_type": "code",
   "execution_count": 6,
   "metadata": {},
   "outputs": [
    {
     "name": "stdout",
     "output_type": "stream",
     "text": [
      "[10, 20, 999]\n"
     ]
    }
   ],
   "source": [
    "# first 3 elements\n",
    "\n",
    "print(data[    0   :    3    :    1      ]) #start at position 0 all positions less than 3, position incremented by 1"
   ]
  },
  {
   "cell_type": "code",
   "execution_count": 7,
   "metadata": {},
   "outputs": [
    {
     "name": "stdout",
     "output_type": "stream",
     "text": [
      "[10, 999]\n"
     ]
    }
   ],
   "source": [
    "print(data [    0  :  4   :   2         ])"
   ]
  },
  {
   "cell_type": "code",
   "execution_count": 8,
   "metadata": {},
   "outputs": [
    {
     "name": "stdout",
     "output_type": "stream",
     "text": [
      "[10, 999, 50]\n"
     ]
    }
   ],
   "source": [
    "print(data [    0  :  20   :   2         ]) #since limit is beyond range of index, python stops at last element"
   ]
  },
  {
   "cell_type": "code",
   "execution_count": 9,
   "metadata": {},
   "outputs": [
    {
     "name": "stdout",
     "output_type": "stream",
     "text": [
      "[10, 20, 30, 40]\n"
     ]
    }
   ],
   "source": [
    "data = [10, 20 , 30 , 40 , 50]\n",
    "\n",
    "print(      data[-5 :   -1   :  1]     )"
   ]
  },
  {
   "cell_type": "code",
   "execution_count": 10,
   "metadata": {},
   "outputs": [
    {
     "name": "stdout",
     "output_type": "stream",
     "text": [
      "[]\n"
     ]
    }
   ],
   "source": [
    "#       0\n",
    "data = [10, 20 , 30 , 40 , 50]\n",
    "#       -5\n",
    "print(      data[-5 :   0   :  1]     )"
   ]
  },
  {
   "cell_type": "code",
   "execution_count": 11,
   "metadata": {},
   "outputs": [
    {
     "name": "stdout",
     "output_type": "stream",
     "text": [
      "[40, 50]\n"
     ]
    }
   ],
   "source": [
    "print(data[   3   :   :  1  ]) #start at position 3 and keep going right till you reach the end"
   ]
  },
  {
   "cell_type": "code",
   "execution_count": 12,
   "metadata": {},
   "outputs": [
    {
     "name": "stdout",
     "output_type": "stream",
     "text": [
      "[20, 30, 40, 50]\n"
     ]
    }
   ],
   "source": [
    "print(data[   1   :   :  1  ]) #start at position 1 and keep going right till you reach the end"
   ]
  },
  {
   "cell_type": "code",
   "execution_count": 13,
   "metadata": {},
   "outputs": [
    {
     "name": "stdout",
     "output_type": "stream",
     "text": [
      "[10, 20, 30, 40, 50]\n"
     ]
    }
   ],
   "source": [
    "print(data[   0   :   :  1  ]) #start at position 0 and keep going right till you reach the end"
   ]
  },
  {
   "cell_type": "code",
   "execution_count": 14,
   "metadata": {},
   "outputs": [
    {
     "name": "stdout",
     "output_type": "stream",
     "text": [
      "[50, 40, 30, 20, 10]\n"
     ]
    }
   ],
   "source": [
    "print(data[ : : -1 ]) #go from right towards left"
   ]
  },
  {
   "cell_type": "code",
   "execution_count": 15,
   "metadata": {},
   "outputs": [
    {
     "name": "stdout",
     "output_type": "stream",
     "text": [
      "[50, 30, 10]\n"
     ]
    }
   ],
   "source": [
    "print(data[ : : -2 ]) #go from right towards left taking 2 steps each time"
   ]
  },
  {
   "cell_type": "code",
   "execution_count": 16,
   "metadata": {},
   "outputs": [],
   "source": [
    "### INDEXING & SLICING!"
   ]
  },
  {
   "cell_type": "code",
   "execution_count": 17,
   "metadata": {},
   "outputs": [
    {
     "name": "stdout",
     "output_type": "stream",
     "text": [
      "After reverse: data [50, 40, 30, 20, 10]\n",
      "After reverse newList : None\n"
     ]
    }
   ],
   "source": [
    "data = [10,20,30,40,50]\n",
    "\n",
    "newList = data.reverse() #reverse the data list \"IN-PLACE\" i.e original list gets reversed\n",
    "\n",
    "print(f\"After reverse: data {data}\")\n",
    "\n",
    "print(f\"After reverse newList : {newList}\") #no value because copy doesn't get created"
   ]
  },
  {
   "cell_type": "code",
   "execution_count": 18,
   "metadata": {},
   "outputs": [
    {
     "name": "stdout",
     "output_type": "stream",
     "text": [
      "After reverse: data [10, 20, 30, 40, 50]\n",
      "After reverse newList : [50, 40, 30, 20, 10]\n"
     ]
    }
   ],
   "source": [
    "data = [10,20,30,40,50]\n",
    "\n",
    "newList = data[ : : -1] #reversing data list and storing new output in newList.\n",
    "                        #original data doesn't change\n",
    "\n",
    "print(f\"After reverse: data {data}\")\n",
    "\n",
    "print(f\"After reverse newList : {newList}\")"
   ]
  },
  {
   "attachments": {},
   "cell_type": "markdown",
   "metadata": {},
   "source": [
    "# STRING VALUES"
   ]
  },
  {
   "attachments": {},
   "cell_type": "markdown",
   "metadata": {},
   "source": [
    "### replace text\n",
    "### change case\n",
    "\n",
    "### alphanumeric, alphabetical, etc"
   ]
  },
  {
   "cell_type": "code",
   "execution_count": 19,
   "metadata": {},
   "outputs": [
    {
     "name": "stdout",
     "output_type": "stream",
     "text": [
      "PYTHON IS SIMPLE. PYTHON IS EASY\n",
      "python is simple. python is easy\n",
      "Python Is Simple. Python Is Easy\n",
      "Original msg: Python is simple. Python is easy\n"
     ]
    }
   ],
   "source": [
    "msg = \"Python is simple. Python is easy\"\n",
    "\n",
    "\n",
    "print(      msg.upper()    ) #uppercase\n",
    "\n",
    "print(        msg.lower()  ) #lowercase\n",
    "\n",
    "print(        msg.title()          ) #starting letter of each word is in upper case\n",
    "\n",
    "print(f\"Original msg: {msg}\")\n"
   ]
  },
  {
   "cell_type": "code",
   "execution_count": 20,
   "metadata": {},
   "outputs": [
    {
     "name": "stdout",
     "output_type": "stream",
     "text": [
      "Coding is simple. Coding is easy. python is great\n",
      "Original::::Python is simple. Python is easy. python is great\n"
     ]
    }
   ],
   "source": [
    "msg = \"Python is simple. Python is easy. python is great\"\n",
    "\n",
    "#replace all ocurrences of Python with coding\n",
    "\n",
    "result = msg.replace(   \"Python\", \"Coding\"   )\n",
    "\n",
    "print(result)\n",
    "print(f\"Original::::{msg}\")\n",
    "\n"
   ]
  },
  {
   "attachments": {},
   "cell_type": "markdown",
   "metadata": {},
   "source": [
    "Location address in Memory\n",
    "\n",
    "(data)\n",
    "0x1000H :             \"       Harshit Shukla      \" \n",
    "\n",
    "\n",
    "(result)\n",
    "0x899H :               \"Harshit Shukla\""
   ]
  },
  {
   "cell_type": "code",
   "execution_count": 21,
   "metadata": {},
   "outputs": [
    {
     "name": "stdout",
     "output_type": "stream",
     "text": [
      "       Harshit Shukla      \n",
      "Harshit Shukla\n"
     ]
    }
   ],
   "source": [
    "data = \"       Harshit Shukla      \"\n",
    "\n",
    "result = data.strip() #removes spaces before first non-space character and after last non-space character\n",
    "\n",
    "print(data)\n",
    "print(result)"
   ]
  },
  {
   "cell_type": "code",
   "execution_count": 22,
   "metadata": {},
   "outputs": [
    {
     "name": "stdout",
     "output_type": "stream",
     "text": [
      "Harshit Shukla\n"
     ]
    }
   ],
   "source": [
    "data = \"       Harshit Shukla      \"\n",
    "\n",
    "#write data.strip result into a new location\n",
    "#refer to this new location as data from no onwards\n",
    "data = data.strip() #removes spaces before first non-space character and after last non-space character\n",
    "\n",
    "print(data) #data now points to new location\n"
   ]
  },
  {
   "attachments": {},
   "cell_type": "markdown",
   "metadata": {},
   "source": [
    "Location address in Memory\n",
    "\n",
    "\n",
    "0x1000H :             \"       Harshit Shukla      \" \n",
    "\n",
    "\n",
    "(data)\n",
    "0x899H :               \"Harshit Shukla\""
   ]
  },
  {
   "attachments": {},
   "cell_type": "markdown",
   "metadata": {},
   "source": [
    "mutable: mostly in-place\n",
    "immutable (for e.g string) : new copy"
   ]
  },
  {
   "cell_type": "code",
   "execution_count": 23,
   "metadata": {},
   "outputs": [
    {
     "data": {
      "text/plain": [
       "'Xarshit'"
      ]
     },
     "execution_count": 23,
     "metadata": {},
     "output_type": "execute_result"
    }
   ],
   "source": [
    "data = \"Harshit\"\n",
    "\n",
    "#replace H with X\n",
    "#this creates a new string in memory\n",
    "#3 choices now\n",
    "    #a) move data variable to this new string (loose access to original value)\n",
    "    #b) use a different variable for the result (still have access to both old & new)\n",
    "    #c) don't use a variable at all : you loose the modification. \n",
    "data.replace(\"H\", \"X\")\n",
    "\n",
    "\n"
   ]
  },
  {
   "cell_type": "code",
   "execution_count": 24,
   "metadata": {},
   "outputs": [
    {
     "name": "stdout",
     "output_type": "stream",
     "text": [
      "False\n",
      "False\n",
      "True\n"
     ]
    }
   ],
   "source": [
    "data = \"harshit123\"\n",
    "\n",
    "msg = \"this is a test\" #spaces would make this non-alphabetical\n",
    "\n",
    "\n",
    "print(  data.isalpha()   ) #data is alphabetical yes or no?\n",
    "print(  msg.isalpha()   ) #msg is alphabetical yes or no?\n",
    "\n",
    "print(data.isalnum()) #is data alphanumeric string?"
   ]
  },
  {
   "cell_type": "code",
   "execution_count": 25,
   "metadata": {},
   "outputs": [
    {
     "name": "stdout",
     "output_type": "stream",
     "text": [
      "True\n",
      "False\n",
      "True\n"
     ]
    }
   ],
   "source": [
    "print( \"harshit\".isalpha() )\n",
    "\n",
    "print(    input(\"Enter something:\").isalpha()    )\n",
    "\n",
    "print(\"12345\".isnumeric())"
   ]
  },
  {
   "cell_type": "code",
   "execution_count": 26,
   "metadata": {},
   "outputs": [
    {
     "name": "stdout",
     "output_type": "stream",
     "text": [
      "['Harshit', '32', 'Mumbai']\n"
     ]
    }
   ],
   "source": [
    "data = \"Harshit^32^Mumbai\"\n",
    "\n",
    "#separate a string into a list of items based on some separating character?\n",
    "\n",
    "result = data.split( \"^\" ) #break the string at the point of ^ symbol\n",
    "\n",
    "print(result)"
   ]
  },
  {
   "cell_type": "code",
   "execution_count": 27,
   "metadata": {},
   "outputs": [
    {
     "name": "stdout",
     "output_type": "stream",
     "text": [
      "Harshit---32---Mumbai\n"
     ]
    }
   ],
   "source": [
    "result = \"---\".join(['Harshit', '32', 'Mumbai'])\n",
    "\n",
    "print(result)"
   ]
  },
  {
   "cell_type": "code",
   "execution_count": 28,
   "metadata": {},
   "outputs": [
    {
     "name": "stdout",
     "output_type": "stream",
     "text": [
      "harshit---Python---demo\n",
      "h---a---r---s---h---i---t\n"
     ]
    }
   ],
   "source": [
    "data = [\"harshit\",\"Python\",\"demo\"]\n",
    "result = \"---\".join(data)\n",
    "print(result)\n",
    "\n",
    "\n",
    "data = \"harshit\"\n",
    "\n",
    "result = \"---\".join(data)\n",
    "print(result)\n"
   ]
  },
  {
   "attachments": {},
   "cell_type": "markdown",
   "metadata": {},
   "source": [
    "### problem 1: Take 2 numbers from the user. Print addition of these 2 numbers\n",
    "\n",
    "\n",
    "### step 1: take input for first number\n",
    "\n",
    "### step 2: take input for second number\n",
    "\n",
    "\n",
    "### step 3: add numbers from step 1 and step 2\n",
    "\n",
    "### step 4: print step 3 result"
   ]
  },
  {
   "cell_type": "code",
   "execution_count": 29,
   "metadata": {},
   "outputs": [
    {
     "name": "stdout",
     "output_type": "stream",
     "text": [
      "10 plus 10 gives 20\n"
     ]
    }
   ],
   "source": [
    "n1 = int(input(\"Enter a number: \"))\n",
    "\n",
    "n2 = int(input(\"Enter second number: \"))\n",
    "\n",
    "ans = n1 + n2\n",
    "\n",
    "print(f\"{n1} plus {n2} gives {ans}\")"
   ]
  },
  {
   "attachments": {},
   "cell_type": "markdown",
   "metadata": {},
   "source": [
    "### problem 2: Take 5 numbers in a list from the user. Print even numbers from this list\n",
    "\n",
    "Hint: Even numbers when divided by 2 give remainder of 0\n",
    "\n",
    "### step 1: create an empty list\n",
    "\n",
    "### step 2: run a loop for 5 times and do the following\n",
    "            \n",
    "            2a ) take one input number from user\n",
    "            2b) append it into the list from step 1\n",
    "\n",
    "### step 3 : run a for each loop on the list\n",
    "            3a ) for each number in the list, check if number is even. if yes, print on screen"
   ]
  },
  {
   "attachments": {},
   "cell_type": "markdown",
   "metadata": {},
   "source": [
    "### dictionary"
   ]
  },
  {
   "cell_type": "code",
   "execution_count": 30,
   "metadata": {},
   "outputs": [],
   "source": [
    "# data analytics"
   ]
  },
  {
   "cell_type": "code",
   "execution_count": 31,
   "metadata": {},
   "outputs": [],
   "source": [
    "employees={\n",
    "\n",
    "    \"emp1\":{\n",
    "        \"name\" : \"Harshit\",\n",
    "        \"age\" : 32\n",
    "    },\n",
    "\n",
    "\n",
    "    \"emp2\": {\n",
    "        \"name\" : \"Rohit\",\n",
    "        \"age\" : 40\n",
    "    }\n",
    "}"
   ]
  },
  {
   "attachments": {},
   "cell_type": "markdown",
   "metadata": {},
   "source": [
    "### One dictionary cannot have 2 labels with the exact name"
   ]
  },
  {
   "cell_type": "code",
   "execution_count": 32,
   "metadata": {},
   "outputs": [
    {
     "name": "stdout",
     "output_type": "stream",
     "text": [
      "Employee: {'name': 'Rohit', 'age': 32, 'location': 'Mumbai'}\n"
     ]
    }
   ],
   "source": [
    "employee = {\"name\" : \"Harshit\", \"age\" : 32}\n",
    "\n",
    "\n",
    "#create new entries in a dictionary?\n",
    "\n",
    "#new entry for location created here\n",
    "employee.update(     {\"location\" : \"Mumbai\" }       )\n",
    "\n",
    "#python will NOT add a new label for name. Instead, it will modify the existing label\n",
    "employee.update(       {\"name\" : \"Rohit\"}    )\n",
    "\n",
    "print(f\"Employee: {employee}\")\n",
    "\n",
    "\n"
   ]
  },
  {
   "attachments": {},
   "cell_type": "markdown",
   "metadata": {},
   "source": [
    "### nested dictionaries"
   ]
  },
  {
   "cell_type": "code",
   "execution_count": 37,
   "metadata": {},
   "outputs": [
    {
     "name": "stdout",
     "output_type": "stream",
     "text": [
      "{'emp101': {'name': 'Harshit', 'age': 32}, 'emp202': {'name': 'Rohit', 'age': 40}, 'emp303': {'name': 'shreyanshi', 'age': 30}}\n"
     ]
    }
   ],
   "source": [
    "e1 = {\n",
    "        \"name\" : \"Harshit\",\n",
    "        \"age\" : 32\n",
    "}\n",
    "\n",
    "e2 = {\n",
    "        \"name\" : \"Rohit\",\n",
    "        \"age\" : 40\n",
    "    }\n",
    "\n",
    "employees = {\n",
    "    \"emp101\" : e1, #indirectly through a variable\n",
    "\n",
    "\n",
    "    \"emp202\" : e2, #adding indirectly using variable name\n",
    "\n",
    "    #directly writing new dictionary here!\n",
    "    \"emp303\" : {\n",
    "        \"name\" : \"shreyanshi\",\n",
    "        \"age\"  : 30\n",
    "    }\n",
    "}\n",
    "\n",
    "print(employees)"
   ]
  },
  {
   "cell_type": "code",
   "execution_count": 38,
   "metadata": {},
   "outputs": [
    {
     "name": "stdout",
     "output_type": "stream",
     "text": [
      "32\n"
     ]
    }
   ],
   "source": [
    "## find out age for emp101\n",
    "\n",
    "print(      employees[\"emp101\"][\"age\"]    )"
   ]
  },
  {
   "cell_type": "code",
   "execution_count": 39,
   "metadata": {},
   "outputs": [
    {
     "name": "stdout",
     "output_type": "stream",
     "text": [
      "Rohit\n"
     ]
    }
   ],
   "source": [
    "print(      employees[\"emp202\"][\"name\"]    )"
   ]
  },
  {
   "attachments": {},
   "cell_type": "markdown",
   "metadata": {},
   "source": [
    "### show all labels"
   ]
  },
  {
   "cell_type": "code",
   "execution_count": 40,
   "metadata": {},
   "outputs": [
    {
     "name": "stdout",
     "output_type": "stream",
     "text": [
      "dict_keys(['name', 'age'])\n"
     ]
    }
   ],
   "source": [
    "print(  e1.keys() ) "
   ]
  },
  {
   "cell_type": "code",
   "execution_count": 43,
   "metadata": {},
   "outputs": [
    {
     "name": "stdout",
     "output_type": "stream",
     "text": [
      "dict_keys(['emp101', 'emp202', 'emp303'])\n"
     ]
    }
   ],
   "source": [
    "print(employees.keys())"
   ]
  },
  {
   "attachments": {},
   "cell_type": "markdown",
   "metadata": {},
   "source": [
    "### see all values"
   ]
  },
  {
   "cell_type": "code",
   "execution_count": 41,
   "metadata": {},
   "outputs": [
    {
     "name": "stdout",
     "output_type": "stream",
     "text": [
      "dict_values(['Harshit', 32])\n"
     ]
    }
   ],
   "source": [
    "print(  e1.values() ) "
   ]
  },
  {
   "attachments": {},
   "cell_type": "markdown",
   "metadata": {},
   "source": [
    "### loop over all entries of a dictionary"
   ]
  },
  {
   "cell_type": "code",
   "execution_count": 42,
   "metadata": {},
   "outputs": [
    {
     "name": "stdout",
     "output_type": "stream",
     "text": [
      "name---->Harshit\n",
      "age---->32\n"
     ]
    }
   ],
   "source": [
    "for key, value in e1.items():\n",
    "    print(f\"{key}---->{value}\")"
   ]
  },
  {
   "cell_type": "code",
   "execution_count": 47,
   "metadata": {},
   "outputs": [
    {
     "name": "stdout",
     "output_type": "stream",
     "text": [
      "###########################\n",
      "emp101---> {'name': 'Harshit', 'age': 32}\n",
      "name----->Harshit\n",
      "age----->32\n",
      "###########################\n",
      "emp202---> {'name': 'Rohit', 'age': 40}\n",
      "name----->Rohit\n",
      "age----->40\n",
      "###########################\n",
      "emp303---> {'name': 'shreyanshi', 'age': 30}\n",
      "name----->shreyanshi\n",
      "age----->30\n"
     ]
    }
   ],
   "source": [
    "#for key and value of outer employees dictionary\n",
    "for key, value in employees.items():\n",
    "    print(\"###########################\")\n",
    "    print(f\"{key}---> {value}\")\n",
    "\n",
    "    #value variable contains inner dictionary. so loop over it\n",
    "    for k,v in value.items():\n",
    "        print(f\"{k}----->{v}\")"
   ]
  },
  {
   "attachments": {},
   "cell_type": "markdown",
   "metadata": {},
   "source": [
    "### read some data"
   ]
  },
  {
   "cell_type": "code",
   "execution_count": 49,
   "metadata": {},
   "outputs": [
    {
     "name": "stdout",
     "output_type": "stream",
     "text": [
      "{'name': 'Harshit', 'age': 32}\n"
     ]
    },
    {
     "ename": "KeyError",
     "evalue": "'emp201'",
     "output_type": "error",
     "traceback": [
      "\u001b[0;31m---------------------------------------------------------------------------\u001b[0m",
      "\u001b[0;31mKeyError\u001b[0m                                  Traceback (most recent call last)",
      "\u001b[1;32m/home/harshit/Desktop/Python-Essentials-Citi/day3.ipynb Cell 56\u001b[0m in \u001b[0;36m2\n\u001b[1;32m      <a href='vscode-notebook-cell:/home/harshit/Desktop/Python-Essentials-Citi/day3.ipynb#Y114sZmlsZQ%3D%3D?line=0'>1</a>\u001b[0m \u001b[39mprint\u001b[39m( employees[\u001b[39m\"\u001b[39m\u001b[39memp101\u001b[39m\u001b[39m\"\u001b[39m] )\n\u001b[0;32m----> <a href='vscode-notebook-cell:/home/harshit/Desktop/Python-Essentials-Citi/day3.ipynb#Y114sZmlsZQ%3D%3D?line=1'>2</a>\u001b[0m \u001b[39mprint\u001b[39m( employees[\u001b[39m\"\u001b[39;49m\u001b[39memp201\u001b[39;49m\u001b[39m\"\u001b[39;49m] ) \u001b[39m#invalid label\u001b[39;00m\n\u001b[1;32m      <a href='vscode-notebook-cell:/home/harshit/Desktop/Python-Essentials-Citi/day3.ipynb#Y114sZmlsZQ%3D%3D?line=2'>3</a>\u001b[0m \u001b[39mprint\u001b[39m( employees[\u001b[39m\"\u001b[39m\u001b[39memp303\u001b[39m\u001b[39m\"\u001b[39m] )\n",
      "\u001b[0;31mKeyError\u001b[0m: 'emp201'"
     ]
    }
   ],
   "source": [
    "print( employees[\"emp101\"] ) #valid\n",
    "print( employees[\"emp201\"] ) #invalid label\n",
    "print( employees[\"emp303\"] ) #valid : but doesn't even execute"
   ]
  },
  {
   "attachments": {},
   "cell_type": "markdown",
   "metadata": {},
   "source": [
    "### use get method instead!"
   ]
  },
  {
   "cell_type": "code",
   "execution_count": 52,
   "metadata": {},
   "outputs": [
    {
     "name": "stdout",
     "output_type": "stream",
     "text": [
      "{'name': 'Harshit', 'age': 32}\n",
      "INVALID LABEL\n",
      "{'name': 'shreyanshi', 'age': 30}\n"
     ]
    }
   ],
   "source": [
    "print ( employees.get(   \"emp101\",  \"INVALID LABEL\"    ) )\n",
    "print ( employees.get(   \"emp201\",  \"INVALID LABEL\"    ) )\n",
    "print ( employees.get(   \"emp303\",  \"INVALID LABEL\"    ) )"
   ]
  },
  {
   "attachments": {},
   "cell_type": "markdown",
   "metadata": {},
   "source": [
    "### pop and remove something"
   ]
  },
  {
   "cell_type": "code",
   "execution_count": 53,
   "metadata": {},
   "outputs": [
    {
     "name": "stdout",
     "output_type": "stream",
     "text": [
      "{'name': 'Harshit', 'age': 32}\n",
      "After pop : {'age': 32}\n"
     ]
    }
   ],
   "source": [
    "print(e1)\n",
    "\n",
    "e1.pop(\"name\",   \"LABEL NOT found\" )\n",
    "\n",
    "\n",
    "print(f\"After pop : {e1}\")"
   ]
  },
  {
   "attachments": {},
   "cell_type": "markdown",
   "metadata": {},
   "source": [
    "### operators : (membership & identity)"
   ]
  },
  {
   "cell_type": "code",
   "execution_count": 55,
   "metadata": {},
   "outputs": [
    {
     "name": "stdout",
     "output_type": "stream",
     "text": [
      "True\n",
      "True\n"
     ]
    }
   ],
   "source": [
    "data = [10, 20, 30]\n",
    "\n",
    "print(   10   in data    ) #Is value of 10 is present in data list?\n",
    "\n",
    "print(50    not in  data) #Are we sure 50 is not present in data?"
   ]
  },
  {
   "attachments": {},
   "cell_type": "markdown",
   "metadata": {},
   "source": [
    "## identity"
   ]
  },
  {
   "cell_type": "code",
   "execution_count": 58,
   "metadata": {},
   "outputs": [
    {
     "name": "stdout",
     "output_type": "stream",
     "text": [
      "True\n",
      "False\n",
      "True\n"
     ]
    }
   ],
   "source": [
    "n1 = 10\n",
    "n2 = 10\n",
    "\n",
    "print(n1   is    n2) #are n1 and n2 referrring to same memory?\n",
    "\n",
    "n2 = 100\n",
    "\n",
    "print(n1   is    n2) #are n1 and n2 referrring to same memory?\n",
    "\n",
    "print(n1 is not n2) #are we sure n1 and n2 refer to different locations?\n",
    "        # 10 <------------n1\n",
    "\n",
    "\n",
    "        #    n2-------->100"
   ]
  },
  {
   "cell_type": "code",
   "execution_count": 61,
   "metadata": {},
   "outputs": [
    {
     "name": "stdout",
     "output_type": "stream",
     "text": [
      "True\n",
      "Data 0 position 999.Temp [0]: 999\n",
      "False\n"
     ]
    }
   ],
   "source": [
    "data = [10,20,30]\n",
    "\n",
    "temp = data \n",
    "\n",
    "print(temp is data) #temp and data are both pointing to same memory i.e NO COPY of data\n",
    "\n",
    "#any change in temp affects data & vice versa\n",
    "temp[0]=999\n",
    "print(f\"Data 0 position {data[0]}.Temp [0]: {temp[0]}\")\n",
    "\n",
    "\n",
    "values = data.copy()\n",
    "\n",
    "#with a true copy, change in one variable won't affect the other!\n",
    "\n",
    "print(values is data) #values and data are at different locations i.e COPY Exists!"
   ]
  },
  {
   "cell_type": "code",
   "execution_count": 63,
   "metadata": {},
   "outputs": [
    {
     "name": "stdout",
     "output_type": "stream",
     "text": [
      "Location id for temp 139646301724224\n",
      "Location id for data 139646301724224\n",
      "Location id for values 139646365605248\n"
     ]
    }
   ],
   "source": [
    "print(f\"Location id for temp {id(temp)}\")\n",
    "print(f\"Location id for data {id(data)}\")\n",
    "print(f\"Location id for values {id(values)}\")"
   ]
  },
  {
   "attachments": {},
   "cell_type": "markdown",
   "metadata": {},
   "source": [
    "# assignment operators in python\n",
    "\n",
    "+=\n",
    "\n",
    "-=\n",
    "\n",
    "*=\n",
    "\n",
    "/=\n",
    "\n"
   ]
  },
  {
   "cell_type": "code",
   "execution_count": null,
   "metadata": {},
   "outputs": [],
   "source": [
    "n1 = 10\n",
    "\n",
    "#add 20 to n1. save the new result in a different memory location and attach n1 to this new result\n",
    "\n",
    "#n1 value changes from 10 to 30\n",
    "n1 = n1 + 20\n",
    "\n",
    "n1 += 20 #exactly same as n1 = n1 + 20\n",
    "\n",
    "\n",
    "n1 -= 20 # exactly same as n1 = n1 - 20\n",
    "\n",
    "\n",
    "n1 *= 20 # exactly same as n1 = n1 * 20\n"
   ]
  }
 ],
 "metadata": {
  "kernelspec": {
   "display_name": "Python 3",
   "language": "python",
   "name": "python3"
  },
  "language_info": {
   "codemirror_mode": {
    "name": "ipython",
    "version": 3
   },
   "file_extension": ".py",
   "mimetype": "text/x-python",
   "name": "python",
   "nbconvert_exporter": "python",
   "pygments_lexer": "ipython3",
   "version": "3.11.2"
  },
  "orig_nbformat": 4
 },
 "nbformat": 4,
 "nbformat_minor": 2
}
