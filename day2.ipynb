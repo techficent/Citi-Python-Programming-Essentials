{
 "cells": [
  {
   "attachments": {},
   "cell_type": "markdown",
   "metadata": {},
   "source": [
    "# loops in Python"
   ]
  },
  {
   "attachments": {},
   "cell_type": "markdown",
   "metadata": {},
   "source": [
    "### print Hello 5 times on the screen"
   ]
  },
  {
   "attachments": {},
   "cell_type": "markdown",
   "metadata": {},
   "source": [
    "for while"
   ]
  },
  {
   "attachments": {},
   "cell_type": "markdown",
   "metadata": {},
   "source": [
    "Notes:\n",
    "\n",
    "    range can take either\n",
    "    \n",
    "     1 number: (limit or ending of range)\n",
    "     2 numbers (starting, ending of range)\n",
    "     3 numbers (starting, ending, stepping value)\n",
    "\n",
    "Ending value is always excluded i.e loop stops at one value\n",
    "less than this ending\n",
    "\n"
   ]
  },
  {
   "cell_type": "code",
   "execution_count": 9,
   "metadata": {},
   "outputs": [
    {
     "name": "stdout",
     "output_type": "stream",
     "text": [
      "7 times 1 = 7\n",
      "7 times 2 = 14\n",
      "7 times 3 = 21\n",
      "7 times 4 = 28\n",
      "7 times 5 = 35\n",
      "7 times 6 = 42\n",
      "7 times 7 = 49\n",
      "7 times 8 = 56\n",
      "7 times 9 = 63\n",
      "7 times 10 = 70\n"
     ]
    }
   ],
   "source": [
    "# 8-> 8 times 1 = 8\n",
    "\n",
    "# step 1: take input for number\n",
    "\n",
    "#step 2: set loop for 10 times (1 to 10)\n",
    "\n",
    "#step 3: Inside the loop, do the following\n",
    "            # a) print number times counter\n",
    "\n",
    "\n",
    "number = int (input(\"Enter a number: \"))\n",
    "\n",
    "\n",
    "#the limit number for range is always excluded\n",
    "#for (int count=1;count < 11; count++)\n",
    "\n",
    "\n",
    "for count in range (1,   11):\n",
    "\n",
    "    print(f\"{number} times {count} = {number * count}\")\n",
    "\n"
   ]
  },
  {
   "cell_type": "code",
   "execution_count": 8,
   "metadata": {},
   "outputs": [
    {
     "name": "stdout",
     "output_type": "stream",
     "text": [
      "x is set to 0\n",
      "1000\n",
      "x is set to 1\n",
      "200\n",
      "x is set to 2\n",
      "400\n",
      "x is set to 3\n",
      "500\n",
      "x is set to 4\n",
      "600\n"
     ]
    }
   ],
   "source": [
    "for x in range(5):\n",
    "    print(f\"x is set to {x}\")\n",
    "    #take a number as input\n",
    "    number = int(input(\"Enter a number: \"))\n",
    "    #show number times 100\n",
    "    print(number * 100)"
   ]
  },
  {
   "cell_type": "code",
   "execution_count": 5,
   "metadata": {},
   "outputs": [
    {
     "name": "stdout",
     "output_type": "stream",
     "text": [
      "0\n",
      "Hello\n",
      "1\n",
      "Hello\n",
      "2\n",
      "Hello\n",
      "3\n",
      "Hello\n",
      "4\n",
      "Hello\n",
      "DONE\n"
     ]
    }
   ],
   "source": [
    "for count in range(5):\n",
    "    print(count)\n",
    "    print(\"Hello\")\n",
    "\n",
    "print(\"DONE\") #since this line is written without indentation, this is outside for loop\n",
    "\n",
    "\n",
    "\n"
   ]
  },
  {
   "cell_type": "code",
   "execution_count": 10,
   "metadata": {},
   "outputs": [
    {
     "name": "stdout",
     "output_type": "stream",
     "text": [
      "Loop is executing with counter as 0\n",
      "Loop is executing with counter as 1\n",
      "Loop is executing with counter as 2\n",
      "Loop is executing with counter as 3\n",
      "Loop is executing with counter as 4\n",
      "Loop is executing with counter as 5\n",
      "Loop is executing with counter as 6\n",
      "Loop is executing with counter as 7\n",
      "Loop is executing with counter as 8\n",
      "Loop is executing with counter as 9\n",
      "Loop is executing with counter as 10\n"
     ]
    }
   ],
   "source": [
    "for counter in range(11):\n",
    "    print(f\"Loop is executing with counter as {counter}\")"
   ]
  },
  {
   "cell_type": "code",
   "execution_count": 11,
   "metadata": {},
   "outputs": [
    {
     "name": "stdout",
     "output_type": "stream",
     "text": [
      "Counter value : 0\n",
      "Counter value : 1\n",
      "Counter value : 2\n",
      "Counter value : 3\n",
      "Counter value : 4\n",
      "Counter value : 5\n",
      "Counter value : 6\n",
      "Counter value : 7\n",
      "Counter value : 8\n",
      "Counter value : 9\n",
      "Counter value : 10\n"
     ]
    }
   ],
   "source": [
    "for counter in range(0,11,  1):\n",
    "    print(f\"Counter value : {counter}\")"
   ]
  },
  {
   "cell_type": "code",
   "execution_count": 12,
   "metadata": {},
   "outputs": [
    {
     "name": "stdout",
     "output_type": "stream",
     "text": [
      "Counter value : 0\n",
      "Counter value : 3\n",
      "Counter value : 6\n",
      "Counter value : 9\n"
     ]
    }
   ],
   "source": [
    "for counter in range(0,11, 3):\n",
    "    print(f\"Counter value : {counter}\")"
   ]
  },
  {
   "cell_type": "code",
   "execution_count": 13,
   "metadata": {},
   "outputs": [
    {
     "data": {
      "text/plain": [
       "5"
      ]
     },
     "execution_count": 13,
     "metadata": {},
     "output_type": "execute_result"
    }
   ],
   "source": []
  },
  {
   "cell_type": "code",
   "execution_count": 14,
   "metadata": {},
   "outputs": [
    {
     "name": "stdout",
     "output_type": "stream",
     "text": [
      "Counter value : 0\n",
      "Counter value : 5\n"
     ]
    }
   ],
   "source": [
    "for counter in range(0,10, 5):\n",
    "    print(f\"Counter value : {counter}\")"
   ]
  },
  {
   "cell_type": "code",
   "execution_count": 15,
   "metadata": {},
   "outputs": [
    {
     "name": "stdout",
     "output_type": "stream",
     "text": [
      "Counter value : 1\n",
      "Counter value : 3\n",
      "Counter value : 5\n"
     ]
    }
   ],
   "source": [
    "for counter in range(1,  6, 2):\n",
    "    print(f\"Counter value : {counter}\")"
   ]
  },
  {
   "cell_type": "code",
   "execution_count": 16,
   "metadata": {},
   "outputs": [
    {
     "name": "stdout",
     "output_type": "stream",
     "text": [
      "Counter value : 10\n",
      "Counter value : 9\n",
      "Counter value : 8\n",
      "Counter value : 7\n",
      "Counter value : 6\n",
      "Counter value : 5\n",
      "Counter value : 4\n",
      "Counter value : 3\n",
      "Counter value : 2\n",
      "Counter value : 1\n"
     ]
    }
   ],
   "source": [
    "for counter in range(10,  0, -1):\n",
    "    print(f\"Counter value : {counter}\")"
   ]
  },
  {
   "cell_type": "code",
   "execution_count": 17,
   "metadata": {},
   "outputs": [
    {
     "name": "stdout",
     "output_type": "stream",
     "text": [
      "Counter value : 10\n",
      "Counter value : 5\n"
     ]
    }
   ],
   "source": [
    "for counter in range(10,  0, -5):\n",
    "    print(f\"Counter value : {counter}\")"
   ]
  },
  {
   "attachments": {},
   "cell_type": "markdown",
   "metadata": {},
   "source": [
    "        <----- -3  --- -2 ----- -1 ---- 0----1      2-----3---------4------10-->"
   ]
  },
  {
   "cell_type": "code",
   "execution_count": 18,
   "metadata": {},
   "outputs": [],
   "source": [
    "#counter starts at 10, counter can never reach 0, but counter must get added by 2 each time\n",
    "\n",
    "for counter in range(10,  0, 2):\n",
    "    print(f\"Counter value : {counter}\")"
   ]
  },
  {
   "cell_type": "code",
   "execution_count": 19,
   "metadata": {},
   "outputs": [
    {
     "name": "stdout",
     "output_type": "stream",
     "text": [
      "Counter value : 10\n",
      "Counter value : 8\n",
      "Counter value : 6\n",
      "Counter value : 4\n",
      "Counter value : 2\n"
     ]
    }
   ],
   "source": [
    "\n",
    "for counter in range(10,  0, -2):\n",
    "    print(f\"Counter value : {counter}\")"
   ]
  },
  {
   "cell_type": "code",
   "execution_count": 20,
   "metadata": {},
   "outputs": [
    {
     "ename": "ValueError",
     "evalue": "range() arg 3 must not be zero",
     "output_type": "error",
     "traceback": [
      "\u001b[0;31m---------------------------------------------------------------------------\u001b[0m",
      "\u001b[0;31mValueError\u001b[0m                                Traceback (most recent call last)",
      "\u001b[1;32m/home/harshit/Desktop/Python-Essentials-Citi/day2.ipynb Cell 19\u001b[0m in \u001b[0;36m1\n\u001b[0;32m----> <a href='vscode-notebook-cell:/home/harshit/Desktop/Python-Essentials-Citi/day2.ipynb#X25sZmlsZQ%3D%3D?line=0'>1</a>\u001b[0m \u001b[39mfor\u001b[39;00m counter \u001b[39min\u001b[39;00m \u001b[39mrange\u001b[39;49m(\u001b[39m10\u001b[39;49m,  \u001b[39m0\u001b[39;49m, \u001b[39m0\u001b[39;49m):\n\u001b[1;32m      <a href='vscode-notebook-cell:/home/harshit/Desktop/Python-Essentials-Citi/day2.ipynb#X25sZmlsZQ%3D%3D?line=1'>2</a>\u001b[0m     \u001b[39mprint\u001b[39m(\u001b[39mf\u001b[39m\u001b[39m\"\u001b[39m\u001b[39mCounter value : \u001b[39m\u001b[39m{\u001b[39;00mcounter\u001b[39m}\u001b[39;00m\u001b[39m\"\u001b[39m)\n",
      "\u001b[0;31mValueError\u001b[0m: range() arg 3 must not be zero"
     ]
    }
   ],
   "source": [
    "\n",
    "for counter in range(10,  0, 0):\n",
    "    print(f\"Counter value : {counter}\")"
   ]
  },
  {
   "attachments": {},
   "cell_type": "markdown",
   "metadata": {},
   "source": [
    "### what is my range?\n",
    "### by how much should my value each time?"
   ]
  },
  {
   "cell_type": "code",
   "execution_count": 21,
   "metadata": {},
   "outputs": [
    {
     "name": "stdout",
     "output_type": "stream",
     "text": [
      "4\n",
      "8\n"
     ]
    }
   ],
   "source": [
    "### all numbers (that are divisible by 4) between 1 and 11 (11 is excluded)\n",
    "\n",
    "\n",
    "for counter in range(4,11,4):\n",
    "    print(counter)"
   ]
  },
  {
   "attachments": {},
   "cell_type": "markdown",
   "metadata": {},
   "source": [
    "##### in range, starting values is defaulted to 0 and stepping value is +1 by default"
   ]
  },
  {
   "cell_type": "code",
   "execution_count": 23,
   "metadata": {},
   "outputs": [],
   "source": [
    "for counter in range(0,  -10, 1 ):\n",
    "    print(counter)"
   ]
  },
  {
   "cell_type": "code",
   "execution_count": null,
   "metadata": {},
   "outputs": [],
   "source": []
  },
  {
   "cell_type": "code",
   "execution_count": 25,
   "metadata": {},
   "outputs": [
    {
     "name": "stdout",
     "output_type": "stream",
     "text": [
      "1000\n",
      "2000\n",
      "3000\n",
      "4000\n",
      "5000\n"
     ]
    }
   ],
   "source": [
    "#for-each loop \n",
    "  #   0    1   2   3   4\n",
    "data=[10, 20, 30, 40, 50]\n",
    "\n",
    "\n",
    "#I want to print 100 times of each number in data\n",
    "\n",
    "for position in range(0, 5, 1):\n",
    "    print(   data[position]  * 100    ) #print data at the current position times 100"
   ]
  },
  {
   "cell_type": "code",
   "execution_count": 26,
   "metadata": {},
   "outputs": [
    {
     "name": "stdout",
     "output_type": "stream",
     "text": [
      "1000\n",
      "2000\n",
      "3000\n",
      "4000\n",
      "5000\n"
     ]
    }
   ],
   "source": [
    "for position in range(5):\n",
    "    print(   data[position]  * 100    ) #print data at the current position times 100"
   ]
  },
  {
   "cell_type": "code",
   "execution_count": 27,
   "metadata": {},
   "outputs": [
    {
     "name": "stdout",
     "output_type": "stream",
     "text": [
      "1000\n",
      "2000\n",
      "3000\n",
      "4000\n",
      "5000\n"
     ]
    }
   ],
   "source": [
    "## for-each loop:  \n",
    "\n",
    "\"\"\"\n",
    "for each number in data, print number times 100\n",
    "\"\"\"\n",
    "                    \n",
    "data=[10, 20, 30, 40, 50]\n",
    "\n",
    "\n",
    "for number in data:\n",
    "    print(number * 100)"
   ]
  },
  {
   "cell_type": "code",
   "execution_count": 28,
   "metadata": {},
   "outputs": [
    {
     "name": "stdout",
     "output_type": "stream",
     "text": [
      "h\n",
      "a\n",
      "r\n",
      "s\n",
      "h\n",
      "i\n",
      "t\n"
     ]
    }
   ],
   "source": [
    "name = \"harshit\"\n",
    "\n",
    "#collection : name string\n",
    "# item : one character\n",
    "\n",
    "for letter in name:\n",
    "    print(letter)"
   ]
  },
  {
   "attachments": {},
   "cell_type": "markdown",
   "metadata": {},
   "source": [
    "2 major types of loops in python\n",
    "\n",
    "\n",
    "first - for loop that can be either range for loop or for-each loop\n",
    "\n",
    "\n",
    "second - while loop\n",
    "\n",
    "\n",
    "\n",
    "## run code in a loop to do the following\n",
    "\n",
    "        # take one number as input from the user. print number times 100\n",
    "\n",
    "## loop must be stopped if user enters 0"
   ]
  },
  {
   "attachments": {},
   "cell_type": "markdown",
   "metadata": {},
   "source": [
    "## Take a string from the user. print it back UNTIL user inputs \"bye\""
   ]
  },
  {
   "cell_type": "code",
   "execution_count": 32,
   "metadata": {},
   "outputs": [
    {
     "name": "stdout",
     "output_type": "stream",
     "text": [
      "\n",
      "harshit\n",
      "python\n",
      "data\n",
      "end\n"
     ]
    }
   ],
   "source": [
    "msg = \"\" #initial value is blank\n",
    "\n",
    "while msg != \"bye\":\n",
    "    print(msg)\n",
    "    msg = input(\"Enter new value: \")"
   ]
  },
  {
   "attachments": {},
   "cell_type": "markdown",
   "metadata": {},
   "source": [
    "#step 1: set the initial value of msg(could be anything apart from \"bye\")\n",
    "\n",
    "#step 2: set a while loop for msg not equal to bye and do the following\n",
    "\n",
    "        # 2a) take one input.\n",
    "        # 2b) check if input is equal to bye; if yes, exit the loop\n",
    "              else: print the input msg on the screen"
   ]
  },
  {
   "cell_type": "code",
   "execution_count": null,
   "metadata": {},
   "outputs": [],
   "source": [
    "#step 1:\n",
    "\n",
    "msg = \"\"\n",
    "\n",
    "#step 2:\n",
    "\n",
    "while msg != \"bye\":\n",
    "\n",
    "    #step 2a)\n",
    "\n",
    "    msg = input(\"Enter something: \")\n",
    "\n",
    "    if msg == \"bye\":\n",
    "        break #exit from nearest loop\n",
    "\n",
    "    print(msg)\n"
   ]
  },
  {
   "cell_type": "code",
   "execution_count": 31,
   "metadata": {},
   "outputs": [
    {
     "name": "stdout",
     "output_type": "stream",
     "text": [
      "3 times 100 is 300\n",
      "4 times 100 is 400\n",
      "5 times 100 is 500\n",
      "6 times 100 is 600\n",
      "7 times 100 is 700\n",
      "8 times 100 is 800\n",
      "3 times 100 is 300\n",
      "2 times 100 is 200\n",
      "3 times 100 is 300\n",
      "4 times 100 is 400\n",
      "1 times 100 is 100\n",
      "0 times 100 is 0\n"
     ]
    }
   ],
   "source": [
    "\n",
    "#run the loop while number IS NOT EQUAL TO 0\n",
    "\n",
    "number = 1 #initial value is 1\n",
    "\n",
    "while number != 0:\n",
    "    number = int(input(\"Enter a number: \"))\n",
    "    print(f\"{number} times 100 is {number * 100}\")"
   ]
  },
  {
   "attachments": {},
   "cell_type": "markdown",
   "metadata": {},
   "source": [
    "#### break : allows you to exit from the nearest loop \n",
    "\n",
    "## continue : allow you to skip the current iteration of the loop BY NOT EXECUTING ANYTHING BELOW continue"
   ]
  },
  {
   "attachments": {},
   "cell_type": "markdown",
   "metadata": {},
   "source": [
    "for output\n",
    "\n",
    "1\n",
    "2\n",
    "3\n",
    "4\n",
    "6\n",
    "\n",
    "step 1: set number to 0\n",
    "\n",
    "step 2: set a while loop till number is less than 10 and do the following\n",
    "\n",
    "\n",
    "        step 2a) increment number by 1\n",
    "\n",
    "\n",
    "        step 2b) check if number has become 5\n",
    "                    if yes, increment number by 1 and then skip the current iteration using continue\n",
    "\n",
    "        step 2c) check if number has become 7\n",
    "                    if yes, exit from the while loop at step 2\n",
    "\n",
    "\n",
    "        step 2d) print number value\n"
   ]
  },
  {
   "cell_type": "code",
   "execution_count": 13,
   "metadata": {},
   "outputs": [
    {
     "name": "stdout",
     "output_type": "stream",
     "text": [
      "1\n",
      "2\n",
      "3\n",
      "4\n",
      "6\n"
     ]
    }
   ],
   "source": [
    "number = 0\n",
    "\n",
    "while number < 10:\n",
    "    number = number + 1\n",
    "\n",
    "    if number == 5:\n",
    "        continue\n",
    "    if number == 7:\n",
    "        break\n",
    "    print(number)\n",
    "\n",
    "\n",
    "\n"
   ]
  },
  {
   "attachments": {},
   "cell_type": "markdown",
   "metadata": {},
   "source": [
    "for output\n",
    "0\n",
    "1\n",
    "2\n",
    "3\n",
    "4\n",
    "6\n",
    "\n",
    "step 1: set number to 0\n",
    "\n",
    "step 2: print number\n",
    "\n",
    "\n",
    "step 3: set a while loop till number is less than 10 and do the following\n",
    "\n",
    "\n",
    "        step 3a) increment number by 1\n",
    "\n",
    "\n",
    "        step 3b) check if number has become 5\n",
    "                    if yes, increment number by 1 and then skip the current iteration using continue\n",
    "\n",
    "        step 3c) check if number has become 7\n",
    "                    if yes, exit from the while loop at step 3\n",
    "\n",
    "        step 3d) print number value\n"
   ]
  },
  {
   "cell_type": "code",
   "execution_count": 11,
   "metadata": {},
   "outputs": [
    {
     "name": "stdout",
     "output_type": "stream",
     "text": [
      "0\n",
      "1\n",
      "2\n",
      "3\n",
      "4\n",
      "6\n"
     ]
    }
   ],
   "source": [
    "number = 0\n",
    "print(number)\n",
    "\n",
    "while number < 10:\n",
    "    number = number + 1\n",
    "\n",
    "    if number == 5:\n",
    "        continue\n",
    "    if number == 7:\n",
    "        break\n",
    "\n",
    "\n",
    "    print(number)\n",
    "\n"
   ]
  },
  {
   "attachments": {},
   "cell_type": "markdown",
   "metadata": {},
   "source": [
    "## data types : int, str, float\n",
    "\n",
    "## data structures : tuple, dictionary, list\n",
    "\n",
    "## control flow : if-elif-else & loops (for & while)"
   ]
  },
  {
   "attachments": {},
   "cell_type": "markdown",
   "metadata": {},
   "source": [
    "#### list operations"
   ]
  },
  {
   "cell_type": "code",
   "execution_count": null,
   "metadata": {},
   "outputs": [],
   "source": [
    "numbers = [10,20,30,40,50]\n",
    "data = [\"Harshit\", 21.34, 100, -19]\n",
    "\n",
    "\n",
    "## create\n",
    "\n",
    "## read\n",
    "\n",
    "## updated\n",
    "\n",
    "## deleted"
   ]
  },
  {
   "attachments": {},
   "cell_type": "markdown",
   "metadata": {},
   "source": [
    "### append : allows you to add something to the end of the list"
   ]
  },
  {
   "cell_type": "code",
   "execution_count": 14,
   "metadata": {},
   "outputs": [
    {
     "name": "stdout",
     "output_type": "stream",
     "text": [
      "After append: [10, 20, 30, 40, 50, 100]\n"
     ]
    }
   ],
   "source": [
    "numbers = [10,20,30,40,50]\n",
    "\n",
    "numbers.append(100)\n",
    "\n",
    "print(f\"After append: {numbers}\")"
   ]
  },
  {
   "cell_type": "code",
   "execution_count": 19,
   "metadata": {},
   "outputs": [
    {
     "name": "stdout",
     "output_type": "stream",
     "text": [
      "After insert : [10, 20, 30, 77, 40, 50, 100]\n"
     ]
    }
   ],
   "source": [
    "#insert before position 3 value of 77 in numbers list\n",
    "numbers.insert(3, 77)\n",
    "\n",
    "print(f\"After insert : {numbers}\")"
   ]
  },
  {
   "attachments": {},
   "cell_type": "markdown",
   "metadata": {},
   "source": [
    "## pop (delete operation)"
   ]
  },
  {
   "cell_type": "code",
   "execution_count": 20,
   "metadata": {},
   "outputs": [
    {
     "name": "stdout",
     "output_type": "stream",
     "text": [
      "After pop [10, 20, 30, 77, 40, 100]\n"
     ]
    }
   ],
   "source": [
    "numbers = [10, 20, 30, 77, 40, 50, 100]\n",
    "\n",
    "#delete element at position 5 and save it in a different variable\n",
    "\n",
    "ans=numbers.pop(5)\n",
    "\n",
    "print(f\"After pop {numbers}\")\n"
   ]
  },
  {
   "attachments": {},
   "cell_type": "markdown",
   "metadata": {},
   "source": [
    "### remove : (delete element by specifying the element itself)\n",
    "\n",
    "### the first instance of given element starting from left"
   ]
  },
  {
   "cell_type": "code",
   "execution_count": 22,
   "metadata": {},
   "outputs": [
    {
     "name": "stdout",
     "output_type": "stream",
     "text": [
      "After remove [10, 20, 30, 40, 77, 100, 77, 77]\n"
     ]
    }
   ],
   "source": [
    "# remove 77 from the list\n",
    "\n",
    "numbers = [10, 20, 30, 77, 40, 77, 100, 77,   77]\n",
    "\n",
    "numbers.remove(77)\n",
    "\n",
    "print(f\"After remove { numbers }\")"
   ]
  },
  {
   "cell_type": "code",
   "execution_count": 23,
   "metadata": {},
   "outputs": [
    {
     "name": "stdout",
     "output_type": "stream",
     "text": [
      "[10, 20, 30, 40, 100]\n"
     ]
    }
   ],
   "source": [
    "numbers = [10, 20, 30, 77, 40, 77, 100, 77,   77]\n",
    "\n",
    "ans = [ ]\n",
    "\n",
    "#loop over all numbers. if current number is not 77, add it to ans list\n",
    "for data in numbers:\n",
    "    if data != 77:\n",
    "        ans.append(data)\n",
    "\n",
    "print(ans)"
   ]
  },
  {
   "cell_type": "code",
   "execution_count": 24,
   "metadata": {},
   "outputs": [
    {
     "name": "stdout",
     "output_type": "stream",
     "text": [
      "[7, 8, 10, 11, 12, 14]\n"
     ]
    }
   ],
   "source": [
    "numbers=[10, 7, 11, 14, 8, 12]\n",
    "\n",
    "#ascending\n",
    "numbers.sort()\n",
    "print(numbers)"
   ]
  },
  {
   "cell_type": "code",
   "execution_count": 25,
   "metadata": {},
   "outputs": [
    {
     "name": "stdout",
     "output_type": "stream",
     "text": [
      "[14, 12, 11, 10, 8, 7]\n"
     ]
    }
   ],
   "source": [
    "numbers=[10, 7, 11, 14, 8, 12]\n",
    "\n",
    "#descending\n",
    "numbers.sort(reverse=True) #NOT number.sort() & numbers.reverse() BUT ONLY A SINGLE sort in descending\n",
    "\n",
    "print(numbers)"
   ]
  },
  {
   "attachments": {},
   "cell_type": "markdown",
   "metadata": {},
   "source": [
    "## "
   ]
  },
  {
   "cell_type": "code",
   "execution_count": 27,
   "metadata": {},
   "outputs": [
    {
     "name": "stdout",
     "output_type": "stream",
     "text": [
      "[100, -19, 100, 21.34, 'harshit']\n"
     ]
    }
   ],
   "source": [
    "data = [\"harshit\", 21.34, 100, -19, 100]\n",
    "data.reverse()\n",
    "\n",
    "print(data)"
   ]
  },
  {
   "attachments": {},
   "cell_type": "markdown",
   "metadata": {},
   "source": [
    "## cannot sort a list if it contains string \n",
    "## & numeric values"
   ]
  },
  {
   "cell_type": "code",
   "execution_count": 28,
   "metadata": {},
   "outputs": [
    {
     "ename": "TypeError",
     "evalue": "'<' not supported between instances of 'str' and 'int'",
     "output_type": "error",
     "traceback": [
      "\u001b[0;31m---------------------------------------------------------------------------\u001b[0m",
      "\u001b[0;31mTypeError\u001b[0m                                 Traceback (most recent call last)",
      "\u001b[1;32m/home/harshit/Desktop/Python-Essentials-Citi/day2.ipynb Cell 55\u001b[0m in \u001b[0;36m1\n\u001b[0;32m----> <a href='vscode-notebook-cell:/home/harshit/Desktop/Python-Essentials-Citi/day2.ipynb#Y115sZmlsZQ%3D%3D?line=0'>1</a>\u001b[0m data\u001b[39m.\u001b[39;49msort()\n",
      "\u001b[0;31mTypeError\u001b[0m: '<' not supported between instances of 'str' and 'int'"
     ]
    }
   ],
   "source": [
    "data.sort()"
   ]
  },
  {
   "cell_type": "code",
   "execution_count": 30,
   "metadata": {},
   "outputs": [
    {
     "name": "stdout",
     "output_type": "stream",
     "text": [
      "Help on built-in function reverse:\n",
      "\n",
      "reverse() method of builtins.list instance\n",
      "    Reverse *IN PLACE*.\n",
      "\n"
     ]
    }
   ],
   "source": [
    "help ( numbers.reverse)"
   ]
  }
 ],
 "metadata": {
  "kernelspec": {
   "display_name": "Python 3",
   "language": "python",
   "name": "python3"
  },
  "language_info": {
   "codemirror_mode": {
    "name": "ipython",
    "version": 3
   },
   "file_extension": ".py",
   "mimetype": "text/x-python",
   "name": "python",
   "nbconvert_exporter": "python",
   "pygments_lexer": "ipython3",
   "version": "3.11.2"
  },
  "orig_nbformat": 4
 },
 "nbformat": 4,
 "nbformat_minor": 2
}
