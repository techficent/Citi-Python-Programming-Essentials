{
 "cells": [
  {
   "cell_type": "code",
   "execution_count": 1,
   "metadata": {},
   "outputs": [
    {
     "name": "stdout",
     "output_type": "stream",
     "text": [
      "Hello,World!\n"
     ]
    }
   ],
   "source": [
    "print(\"Hello,World!\") "
   ]
  },
  {
   "cell_type": "code",
   "execution_count": 2,
   "metadata": {},
   "outputs": [],
   "source": [
    "\n",
    "#int (integer number )\n",
    "age = 32\n",
    "\n",
    "#str (string of characters)\n",
    "name = \"Harshit\" \n",
    "\n",
    "#float (a number with a decimal point)\n",
    "salary = 45.67"
   ]
  },
  {
   "cell_type": "code",
   "execution_count": 5,
   "metadata": {},
   "outputs": [
    {
     "name": "stdout",
     "output_type": "stream",
     "text": [
      "32 Harshit 45.67\n"
     ]
    }
   ],
   "source": [
    "print(age, name, salary )"
   ]
  },
  {
   "cell_type": "code",
   "execution_count": 6,
   "metadata": {},
   "outputs": [
    {
     "name": "stdout",
     "output_type": "stream",
     "text": [
      "35\n"
     ]
    }
   ],
   "source": [
    "age = 35\n",
    "\n",
    "print(age)"
   ]
  },
  {
   "cell_type": "code",
   "execution_count": 7,
   "metadata": {},
   "outputs": [
    {
     "name": "stdout",
     "output_type": "stream",
     "text": [
      "35 Harshit 45.67\n"
     ]
    }
   ],
   "source": [
    "print(age, name, salary )"
   ]
  },
  {
   "cell_type": "code",
   "execution_count": 8,
   "metadata": {},
   "outputs": [
    {
     "name": "stdout",
     "output_type": "stream",
     "text": [
      "35 Harshit 45.67\n"
     ]
    }
   ],
   "source": [
    "print(age, name, salary )"
   ]
  },
  {
   "cell_type": "code",
   "execution_count": 9,
   "metadata": {},
   "outputs": [
    {
     "name": "stdout",
     "output_type": "stream",
     "text": [
      "Harshit 35 45.67\n"
     ]
    }
   ],
   "source": [
    "print(\"Harshit\", age, salary)"
   ]
  },
  {
   "cell_type": "code",
   "execution_count": 10,
   "metadata": {},
   "outputs": [
    {
     "name": "stdout",
     "output_type": "stream",
     "text": [
      "Harshit\n"
     ]
    }
   ],
   "source": [
    "#accidently overwriting values\n",
    "age = 32\n",
    "\n",
    "age = \"Harshit\"\n",
    "\n",
    "print(age)"
   ]
  },
  {
   "attachments": {},
   "cell_type": "markdown",
   "metadata": {},
   "source": [
    "### Data containers/ data structures"
   ]
  },
  {
   "cell_type": "code",
   "execution_count": 18,
   "metadata": {},
   "outputs": [
    {
     "name": "stdout",
     "output_type": "stream",
     "text": [
      "[45.67, 43.21, 34.56]\n",
      "[100, 45.56, 'harshit']\n",
      "(32, 45, 65)\n",
      "{'name': 'Harshit', 'age': 32, 'location': 'Mumbai', 'skills': ['IT training', 'ML', 'Programming']}\n",
      "{'name': 'Harshit', 'age': 40, 'location': 'Mumbai', 'skills': ['IT training', 'ML', 'Programming']}\n"
     ]
    }
   ],
   "source": [
    "### salaries of 3 employees\n",
    "\n",
    "# list (mutable data i.e data that can be modifed at any time)\n",
    "salaries = [45.67,  43.21,  34.56 ]\n",
    "print(salaries)\n",
    "\n",
    "data = [100, 45.56, \"harshit\"] #list of 3 values\n",
    "print(data)\n",
    "\n",
    "# tuple (read-only data, modifications are not allowed)\n",
    "ages = ( 32, 45,65 )\n",
    "print(ages)\n",
    "\n",
    "# dictionary : (labelled data that can be modified. format of entry is key : value where key is label)\n",
    "\n",
    "employee = {\n",
    "    \"name\"  : \"Harshit\",\n",
    "    \"age\"   :  32,\n",
    "    \"location\" : \"Mumbai\",\n",
    "    \"skills\" : [\"IT training\", \"ML\", \"Programming\"]\n",
    "}\n",
    "\n",
    "print(employee)\n",
    "\n",
    "employee[\"age\"] = 40\n",
    "\n",
    "print(employee)"
   ]
  },
  {
   "cell_type": "code",
   "execution_count": 20,
   "metadata": {},
   "outputs": [
    {
     "name": "stdout",
     "output_type": "stream",
     "text": [
      "<class 'dict'>\n",
      "<class 'list'>\n"
     ]
    }
   ],
   "source": [
    "print(    type(employee)   )\n",
    "print(    type(data)   )"
   ]
  },
  {
   "attachments": {},
   "cell_type": "markdown",
   "metadata": {},
   "source": [
    "# take one value as input from the user. \n",
    "\n",
    "### step 1: to accept a value for variable \"age\". This should be integer\n",
    "### step 2 : check the value of age and apply following conditions\n",
    "\n",
    "                a) if age is less than 0: print invalid age\n",
    "                b) 0 to 17 : print Cannot vote yet\n",
    "                c) age over 17 (18 and above) : Eligible to vote\n",
    "\n",
    "\n",
    "if age is less than 0, it is invalid, else if age is between 0 to 17, person cannot vote ELSE they are eligible to vote"
   ]
  },
  {
   "cell_type": "code",
   "execution_count": 28,
   "metadata": {},
   "outputs": [
    {
     "name": "stdout",
     "output_type": "stream",
     "text": [
      "Eligible to vote now\n"
     ]
    }
   ],
   "source": [
    "# step 1: age input: convert input to int since default type is string\n",
    "\n",
    "age=int (    input(\"Enter your age please: \")     )\n",
    "\n",
    "#step  2a\n",
    "\n",
    "if  age  <  0 :\n",
    "    print(\"Invalid age\")\n",
    "\n",
    "elif age >= 0  and age < 18 :\n",
    "    print(\"Cannot vote yet\")\n",
    "\n",
    "else:\n",
    "    print(\"Eligible to vote now\")"
   ]
  },
  {
   "attachments": {},
   "cell_type": "markdown",
   "metadata": {},
   "source": [
    "## arithmetics"
   ]
  },
  {
   "attachments": {},
   "cell_type": "markdown",
   "metadata": {},
   "source": [
    "            3 <-------quotient\n",
    "         ------\n",
    "       3 )  10\n",
    "           - 9\n",
    "           -----\n",
    "             1   <-------remainder"
   ]
  },
  {
   "cell_type": "code",
   "execution_count": 40,
   "metadata": {},
   "outputs": [
    {
     "name": "stdout",
     "output_type": "stream",
     "text": [
      "The addition of 10 and 3 gives 13\n",
      "10 minus 3 gives 7\n",
      "10 times 3 gives 30\n",
      "10 divided by 3 gives 3.3333333333333335\n",
      "10 divided by 3 gives quotient 3\n",
      "10 divided by 3 gives remainder 1\n",
      "10 raised to the power of 3 gives 1000\n"
     ]
    }
   ],
   "source": [
    "n1 = int(input(\"Enter a value for n1: \"))\n",
    "n2 = int(input(\"Value for n2 please: \"))\n",
    "\n",
    "#formatted string\n",
    "print(f\"The addition of {n1} and {n2} gives {n1 + n2}\")\n",
    "\n",
    "print(f\"{n1} minus {n2} gives {n1 - n2}\")\n",
    "\n",
    "print(f\"{n1} times {n2} gives {n1 * n2}\")\n",
    "\n",
    "print(f\"{n1} divided by {n2} gives {n1 / n2}\") # / gives the exact answer of division\n",
    "\n",
    "print(f\"{n1} divided by {n2} gives quotient {n1 // n2}\") #  // shows only the quotient\n",
    "\n",
    "print(f\"{n1} divided by {n2} gives remainder {n1 % n2}\") #  % shows only the remainder\n",
    "\n",
    "print(f\"{n1} raised to the power of {n2} gives {n1 ** n2}\") # ** is used for power operation\n",
    "\n"
   ]
  },
  {
   "attachments": {},
   "cell_type": "markdown",
   "metadata": {},
   "source": [
    "# int\n",
    "# str\n",
    "# float\n",
    "\n",
    "\n",
    "#### list  [] : mutable data container (values inside a list can be modified)\n",
    "\n",
    "#### tuple () : immutable data container (values cannot be modified)\n",
    "\n",
    "#### dictionary {} : labelled data storage where values can also be modified\n",
    "\n",
    "\n",
    "#### print : show output to user\n",
    "\n",
    "\n",
    "#### input : take values from the user\n",
    "\n",
    "\n",
    "#### conditions using if-elif-else blocks\n",
    "\n",
    "\n",
    "#### arithmetic operations in python"
   ]
  },
  {
   "attachments": {},
   "cell_type": "markdown",
   "metadata": {},
   "source": [
    "### operators (type of operators)"
   ]
  },
  {
   "attachments": {},
   "cell_type": "markdown",
   "metadata": {},
   "source": [
    "## operators are symbols used for performing some specific operation"
   ]
  },
  {
   "attachments": {},
   "cell_type": "markdown",
   "metadata": {},
   "source": [
    "## arithmetic operators: +   ,   -   ,   *  ,   /   ,   //,  %,   **\n",
    "\n",
    "## relational operators : < (less than), greater than (>), equal to (==),\n",
    "##                        <= (less than or equal to),\n",
    "##                        >= (greater than or equal to),\n",
    "##                        !=  (not equal to)    \n",
    "\n",
    "\n",
    "\n",
    "###  logical operators : and,  or   ,  not"
   ]
  },
  {
   "cell_type": "code",
   "execution_count": 46,
   "metadata": {},
   "outputs": [
    {
     "name": "stdout",
     "output_type": "stream",
     "text": [
      "Input number was: 4. Is number less than 10? True\n"
     ]
    }
   ],
   "source": [
    "### check whether number given by the user is less than 10\n",
    "\n",
    "### step 1: take input\n",
    "number = int(    input(\"Enter a number: \")   )\n",
    "\n",
    "### step 2 print number < 10\n",
    "\n",
    "print(f\"Input number was: {number}. Is number less than 10? {number < 10}\")"
   ]
  },
  {
   "attachments": {},
   "cell_type": "markdown",
   "metadata": {},
   "source": [
    "### and gives final result as True if both its operands (LHS and RHS) are true as well"
   ]
  },
  {
   "cell_type": "code",
   "execution_count": 48,
   "metadata": {},
   "outputs": [
    {
     "name": "stdout",
     "output_type": "stream",
     "text": [
      "True\n",
      "False\n"
     ]
    }
   ],
   "source": [
    "print(   10   <   20     and      20    <   40       )\n",
    "\n",
    "print(   10   <   20     and      20    <   15       )"
   ]
  },
  {
   "attachments": {},
   "cell_type": "markdown",
   "metadata": {},
   "source": [
    "### or gives final result as True if AT LEAST ONE OF ITS OPERANDS is true"
   ]
  },
  {
   "cell_type": "code",
   "execution_count": 49,
   "metadata": {},
   "outputs": [
    {
     "name": "stdout",
     "output_type": "stream",
     "text": [
      "True\n",
      "True\n"
     ]
    }
   ],
   "source": [
    "print(   10   <   20     or      20    <   40       )\n",
    "\n",
    "print(   10   <   20     or      20    <   15       )"
   ]
  },
  {
   "attachments": {},
   "cell_type": "markdown",
   "metadata": {},
   "source": [
    "### not inverts whatever its operand's result was originally"
   ]
  },
  {
   "cell_type": "code",
   "execution_count": 51,
   "metadata": {},
   "outputs": [
    {
     "name": "stdout",
     "output_type": "stream",
     "text": [
      "False\n",
      "True\n"
     ]
    }
   ],
   "source": [
    "print(               10  <  5    )\n",
    "\n",
    "print(         not   (   10  <  5  )    )"
   ]
  }
 ],
 "metadata": {
  "kernelspec": {
   "display_name": "Python 3",
   "language": "python",
   "name": "python3"
  },
  "language_info": {
   "codemirror_mode": {
    "name": "ipython",
    "version": 3
   },
   "file_extension": ".py",
   "mimetype": "text/x-python",
   "name": "python",
   "nbconvert_exporter": "python",
   "pygments_lexer": "ipython3",
   "version": "3.11.2"
  },
  "orig_nbformat": 4
 },
 "nbformat": 4,
 "nbformat_minor": 2
}
